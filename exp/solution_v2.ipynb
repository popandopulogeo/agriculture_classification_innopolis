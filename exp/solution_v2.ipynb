{
 "cells": [
  {
   "cell_type": "code",
   "execution_count": 1,
   "id": "5d51558b-6246-41d8-a68a-6285f15d2bfa",
   "metadata": {},
   "outputs": [],
   "source": [
    "import numpy as np\n",
    "import pandas as pd\n",
    "import matplotlib.pyplot as plt\n",
    "import os\n",
    "from scipy import stats, interpolate\n",
    "from shapely.geometry import shape\n",
    "from functools import reduce\n",
    "import json\n",
    "\n",
    "from sklearn.model_selection import train_test_split, GridSearchCV, cross_val_score, StratifiedKFold\n",
    "from sklearn.metrics import recall_score, precision_score\n",
    "from sklearn.utils import shuffle\n",
    "from sklearn.multiclass import OutputCodeClassifier\n",
    "\n",
    "import xgboost as xgb\n",
    "import lightgbm as lgbm"
   ]
  },
  {
   "cell_type": "code",
   "execution_count": 8,
   "id": "1c464f54-d646-4e43-bd29-2151304f931e",
   "metadata": {},
   "outputs": [],
   "source": [
    "def preprocess(data, \n",
    "               train=True,   \n",
    "               scaling=False):\n",
    "    \n",
    "    def parse_json(obj):\n",
    "        coords = shape(json.loads(obj.values[0])).bounds\n",
    "        x = (coords[0] + coords[2]) / 2\n",
    "        y = (coords[1] + coords[3]) / 2\n",
    "        return (x, y)\n",
    "\n",
    "    target_col = pd.Index(['crop'])\n",
    "    area_col = pd.Index(['area'])\n",
    "    geo_col = pd.Index(['.geo'])\n",
    "    ts_cols = data.columns.difference(area_col.append([geo_col, target_col])).to_list()\n",
    "    \n",
    "    # Mode\n",
    "    if train:\n",
    "        target = data[target_col]\n",
    "        features = data.drop(target_col.to_list(), axis=1)\n",
    "    else:\n",
    "        target = None\n",
    "        features = data\n",
    "        \n",
    "#     Interpolation\n",
    "#     features_ts[features_ts <= 0] = np.nan\n",
    "#     features_ts[features_ts >= 1] = 1\n",
    "    \n",
    "#     features_ts = np.clip(features_ts, 0, 1)\n",
    "#     features_ts.sort_index(axis=1, inplace=True)\n",
    "    \n",
    "#     features_ts = features_ts.apply(fill_fl_nan, axis=1)\n",
    "#     features_ts = features_ts.apply(interpolate_, axis=1)\n",
    "    \n",
    "#     features_ts.interpolate(axis=1, inplace=True)\n",
    "#     features_ts.ffill(axis=1, inplace=True)\n",
    "#     features_ts.bfill(axis=1, inplace=True)\n",
    "\n",
    "    features_ts = features[ts_cols].copy()\n",
    "    \n",
    "    # Scaling\n",
    "    if scaling:\n",
    "        global_min = features_ts.min()\n",
    "        global_max = features_ts.max()\n",
    "\n",
    "        features_ts = (features_ts - global_min)/(global_max - global_min)\n",
    "    \n",
    "    features_geo = features[geo_col].copy()\n",
    "    coordinates = features_geo.apply(parse_json, axis=1)\n",
    "    features_geo =  pd.DataFrame(coordinates.to_list(), columns=['x', 'y'], index=features_geo.index)\n",
    "    \n",
    "    features_area = features[area_col].copy()\n",
    "    features_parts = [features_ts, features_geo, features_area]\n",
    "    features = reduce(lambda left, right: left.join(right), features_parts)\n",
    "    \n",
    "    data = features.join(target)\n",
    "    data = shuffle(data)\n",
    "    features = data[features.columns]\n",
    "    target = data.crop\n",
    "    \n",
    "    return features, target"
   ]
  },
  {
   "cell_type": "code",
   "execution_count": 9,
   "id": "7622aacf-2676-4190-bc04-90c7c487a729",
   "metadata": {},
   "outputs": [],
   "source": [
    "train_file = 'data/train_dataset_train.csv'\n",
    "test_file = 'data/test_dataset_test.csv'\n",
    "\n",
    "data = pd.read_csv(train_file)\n",
    "data.sort_index(axis=1, inplace=True)\n",
    "data.set_index('id', inplace=True)\n",
    "features, target = preprocess(data)"
   ]
  },
  {
   "cell_type": "code",
   "execution_count": 15,
   "id": "f21f88e5-4f4c-48e9-9778-2536943e87a5",
   "metadata": {},
   "outputs": [],
   "source": [
    "recall = lambda pred_y, target_y: print(f'Recall: {recall_score(target_y, pred_y, average=\"macro\", zero_division=0)}')"
   ]
  },
  {
   "cell_type": "code",
   "execution_count": 11,
   "id": "4295a799-d0b7-472d-98ff-e93bb09a0e16",
   "metadata": {},
   "outputs": [],
   "source": [
    "train_X, valid_X, train_Y, valid_Y = train_test_split(features, target, test_size=0.2, shuffle=True, stratify=target)"
   ]
  },
  {
   "cell_type": "code",
   "execution_count": 12,
   "id": "c3bd8a01-5df8-433b-8afc-73696ea9d59b",
   "metadata": {},
   "outputs": [],
   "source": [
    "xgb_params = {'colsample_bytree': 0.5, 'eta': 0.05, 'gamma': 0.3, 'max_depth': 5, 'min_child_weight': 3}\n",
    "lgbm_params = {'boosting': 'goss', 'feature_fraction': 0.9, 'learning_rate': 0.01, 'max_depth': 10, 'min_data_in_leaf': 15, 'num_leaves': 31, 'reg_alpha': 0, 'reg_lambda': 0}"
   ]
  },
  {
   "cell_type": "code",
   "execution_count": 13,
   "id": "35c0ce65-d758-420c-a8c6-a6a5a4a8abb1",
   "metadata": {},
   "outputs": [],
   "source": [
    "clf_1 = xgb.XGBClassifier(n_estimators=500, **xgb_params)\n",
    "clf_2 = lgbm.LGBMClassifier(n_estimators=500, **lgbm_params)\n",
    "clf_3 = lgbm.LGBMClassifier(n_estimators=500, learning_rate=0.01)"
   ]
  },
  {
   "cell_type": "code",
   "execution_count": 14,
   "id": "be7c4157-dfe6-4261-a612-9ccbd286f1cc",
   "metadata": {},
   "outputs": [
    {
     "name": "stdout",
     "output_type": "stream",
     "text": [
      "[LightGBM] [Warning] boosting is set=goss, boosting_type=gbdt will be ignored. Current value: boosting=goss\n",
      "[LightGBM] [Warning] feature_fraction is set=0.9, colsample_bytree=1.0 will be ignored. Current value: feature_fraction=0.9\n",
      "[LightGBM] [Warning] min_data_in_leaf is set=15, min_child_samples=20 will be ignored. Current value: min_data_in_leaf=15\n"
     ]
    },
    {
     "data": {
      "text/html": [
       "<style>#sk-container-id-1 {color: black;background-color: white;}#sk-container-id-1 pre{padding: 0;}#sk-container-id-1 div.sk-toggleable {background-color: white;}#sk-container-id-1 label.sk-toggleable__label {cursor: pointer;display: block;width: 100%;margin-bottom: 0;padding: 0.3em;box-sizing: border-box;text-align: center;}#sk-container-id-1 label.sk-toggleable__label-arrow:before {content: \"▸\";float: left;margin-right: 0.25em;color: #696969;}#sk-container-id-1 label.sk-toggleable__label-arrow:hover:before {color: black;}#sk-container-id-1 div.sk-estimator:hover label.sk-toggleable__label-arrow:before {color: black;}#sk-container-id-1 div.sk-toggleable__content {max-height: 0;max-width: 0;overflow: hidden;text-align: left;background-color: #f0f8ff;}#sk-container-id-1 div.sk-toggleable__content pre {margin: 0.2em;color: black;border-radius: 0.25em;background-color: #f0f8ff;}#sk-container-id-1 input.sk-toggleable__control:checked~div.sk-toggleable__content {max-height: 200px;max-width: 100%;overflow: auto;}#sk-container-id-1 input.sk-toggleable__control:checked~label.sk-toggleable__label-arrow:before {content: \"▾\";}#sk-container-id-1 div.sk-estimator input.sk-toggleable__control:checked~label.sk-toggleable__label {background-color: #d4ebff;}#sk-container-id-1 div.sk-label input.sk-toggleable__control:checked~label.sk-toggleable__label {background-color: #d4ebff;}#sk-container-id-1 input.sk-hidden--visually {border: 0;clip: rect(1px 1px 1px 1px);clip: rect(1px, 1px, 1px, 1px);height: 1px;margin: -1px;overflow: hidden;padding: 0;position: absolute;width: 1px;}#sk-container-id-1 div.sk-estimator {font-family: monospace;background-color: #f0f8ff;border: 1px dotted black;border-radius: 0.25em;box-sizing: border-box;margin-bottom: 0.5em;}#sk-container-id-1 div.sk-estimator:hover {background-color: #d4ebff;}#sk-container-id-1 div.sk-parallel-item::after {content: \"\";width: 100%;border-bottom: 1px solid gray;flex-grow: 1;}#sk-container-id-1 div.sk-label:hover label.sk-toggleable__label {background-color: #d4ebff;}#sk-container-id-1 div.sk-serial::before {content: \"\";position: absolute;border-left: 1px solid gray;box-sizing: border-box;top: 0;bottom: 0;left: 50%;z-index: 0;}#sk-container-id-1 div.sk-serial {display: flex;flex-direction: column;align-items: center;background-color: white;padding-right: 0.2em;padding-left: 0.2em;position: relative;}#sk-container-id-1 div.sk-item {position: relative;z-index: 1;}#sk-container-id-1 div.sk-parallel {display: flex;align-items: stretch;justify-content: center;background-color: white;position: relative;}#sk-container-id-1 div.sk-item::before, #sk-container-id-1 div.sk-parallel-item::before {content: \"\";position: absolute;border-left: 1px solid gray;box-sizing: border-box;top: 0;bottom: 0;left: 50%;z-index: -1;}#sk-container-id-1 div.sk-parallel-item {display: flex;flex-direction: column;z-index: 1;position: relative;background-color: white;}#sk-container-id-1 div.sk-parallel-item:first-child::after {align-self: flex-end;width: 50%;}#sk-container-id-1 div.sk-parallel-item:last-child::after {align-self: flex-start;width: 50%;}#sk-container-id-1 div.sk-parallel-item:only-child::after {width: 0;}#sk-container-id-1 div.sk-dashed-wrapped {border: 1px dashed gray;margin: 0 0.4em 0.5em 0.4em;box-sizing: border-box;padding-bottom: 0.4em;background-color: white;}#sk-container-id-1 div.sk-label label {font-family: monospace;font-weight: bold;display: inline-block;line-height: 1.2em;}#sk-container-id-1 div.sk-label-container {text-align: center;}#sk-container-id-1 div.sk-container {/* jupyter's `normalize.less` sets `[hidden] { display: none; }` but bootstrap.min.css set `[hidden] { display: none !important; }` so we also need the `!important` here to be able to override the default hidden behavior on the sphinx rendered scikit-learn.org. See: https://github.com/scikit-learn/scikit-learn/issues/21755 */display: inline-block !important;position: relative;}#sk-container-id-1 div.sk-text-repr-fallback {display: none;}</style><div id=\"sk-container-id-1\" class=\"sk-top-container\"><div class=\"sk-text-repr-fallback\"><pre>LGBMClassifier(learning_rate=0.01, n_estimators=500)</pre><b>In a Jupyter environment, please rerun this cell to show the HTML representation or trust the notebook. <br />On GitHub, the HTML representation is unable to render, please try loading this page with nbviewer.org.</b></div><div class=\"sk-container\" hidden><div class=\"sk-item\"><div class=\"sk-estimator sk-toggleable\"><input class=\"sk-toggleable__control sk-hidden--visually\" id=\"sk-estimator-id-1\" type=\"checkbox\" checked><label for=\"sk-estimator-id-1\" class=\"sk-toggleable__label sk-toggleable__label-arrow\">LGBMClassifier</label><div class=\"sk-toggleable__content\"><pre>LGBMClassifier(learning_rate=0.01, n_estimators=500)</pre></div></div></div></div></div>"
      ],
      "text/plain": [
       "LGBMClassifier(learning_rate=0.01, n_estimators=500)"
      ]
     },
     "execution_count": 14,
     "metadata": {},
     "output_type": "execute_result"
    }
   ],
   "source": [
    "clf_1.fit(train_X, train_Y)\n",
    "clf_2.fit(train_X, train_Y)\n",
    "clf_3.fit(train_X, train_Y)"
   ]
  },
  {
   "cell_type": "code",
   "execution_count": 16,
   "id": "f7831ac2-7733-4726-9adf-b46227b01147",
   "metadata": {},
   "outputs": [
    {
     "name": "stdout",
     "output_type": "stream",
     "text": [
      "clf_1\n",
      "Recall: 0.9727160254832542\n",
      "clf_2\n",
      "Recall: 0.9747358382045058\n",
      "clf_3\n",
      "Recall: 0.9696119192649141\n"
     ]
    }
   ],
   "source": [
    "pred_y_1 = clf_1.predict(valid_X)\n",
    "print('clf_1')\n",
    "recall(pred_y_1, valid_Y)\n",
    "\n",
    "pred_y_2 = clf_2.predict(valid_X)\n",
    "print('clf_2')\n",
    "recall(pred_y_2, valid_Y)\n",
    "\n",
    "pred_y_3 = clf_3.predict(valid_X)\n",
    "print('clf_3')\n",
    "recall(pred_y_3, valid_Y)"
   ]
  },
  {
   "cell_type": "code",
   "execution_count": 19,
   "id": "328532a6-3f21-468a-bcb0-737f26c21319",
   "metadata": {},
   "outputs": [],
   "source": [
    "n_sam = valid_Y.shape[0]\n",
    "arr = np.empty((n_sam, 3))\n",
    "\n",
    "arr[:,0] = clf_1.predict(valid_X)\n",
    "arr[:,1] = clf_2.predict(valid_X)\n",
    "arr[:,2] = clf_3.predict(valid_X)"
   ]
  },
  {
   "cell_type": "code",
   "execution_count": 25,
   "id": "f983e9a1-a48e-4ad4-b3d9-0d37c620c587",
   "metadata": {},
   "outputs": [],
   "source": [
    "mode = stats.mode(arr, axis=1)[0]"
   ]
  },
  {
   "cell_type": "code",
   "execution_count": 26,
   "id": "faba7916-9b07-4895-8a15-27c50eb7486b",
   "metadata": {},
   "outputs": [
    {
     "name": "stdout",
     "output_type": "stream",
     "text": [
      "mde\n",
      "Recall: 0.9747358382045058\n"
     ]
    }
   ],
   "source": [
    "print('mde')\n",
    "recall(mode, valid_Y)"
   ]
  },
  {
   "cell_type": "code",
   "execution_count": null,
   "id": "d6ccc13f-2318-4cfc-8f08-fe597701b4db",
   "metadata": {},
   "outputs": [],
   "source": []
  }
 ],
 "metadata": {
  "kernelspec": {
   "display_name": "Python 3",
   "language": "python",
   "name": "python3"
  },
  "language_info": {
   "codemirror_mode": {
    "name": "ipython",
    "version": 3
   },
   "file_extension": ".py",
   "mimetype": "text/x-python",
   "name": "python",
   "nbconvert_exporter": "python",
   "pygments_lexer": "ipython3",
   "version": "3.6.8"
  }
 },
 "nbformat": 4,
 "nbformat_minor": 5
}
