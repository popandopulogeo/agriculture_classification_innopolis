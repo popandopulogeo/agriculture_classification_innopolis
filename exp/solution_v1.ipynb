{
 "cells": [
  {
   "cell_type": "code",
   "execution_count": 1,
   "id": "ea71063c-9fa0-4016-8830-7c48015fcf33",
   "metadata": {},
   "outputs": [
    {
     "ename": "ModuleNotFoundError",
     "evalue": "No module named 'statsmodels'",
     "output_type": "error",
     "traceback": [
      "\u001b[0;31m---------------------------------------------------------------------------\u001b[0m",
      "\u001b[0;31mModuleNotFoundError\u001b[0m                       Traceback (most recent call last)",
      "\u001b[0;32m<ipython-input-1-303b1363fcf6>\u001b[0m in \u001b[0;36m<module>\u001b[0;34m\u001b[0m\n\u001b[1;32m      5\u001b[0m \u001b[0;32mfrom\u001b[0m \u001b[0mdatetime\u001b[0m \u001b[0;32mimport\u001b[0m \u001b[0mdatetime\u001b[0m \u001b[0;32mas\u001b[0m \u001b[0mdt\u001b[0m\u001b[0;34m\u001b[0m\u001b[0;34m\u001b[0m\u001b[0m\n\u001b[1;32m      6\u001b[0m \u001b[0;32mfrom\u001b[0m \u001b[0mdatetime\u001b[0m \u001b[0;32mimport\u001b[0m \u001b[0mtimedelta\u001b[0m \u001b[0;32mas\u001b[0m \u001b[0mdelta\u001b[0m\u001b[0;34m\u001b[0m\u001b[0;34m\u001b[0m\u001b[0m\n\u001b[0;32m----> 7\u001b[0;31m \u001b[0;32mimport\u001b[0m \u001b[0mstatsmodels\u001b[0m\u001b[0;34m.\u001b[0m\u001b[0mapi\u001b[0m \u001b[0;32mas\u001b[0m \u001b[0msm\u001b[0m\u001b[0;34m\u001b[0m\u001b[0;34m\u001b[0m\u001b[0m\n\u001b[0m\u001b[1;32m      8\u001b[0m \u001b[0;32mfrom\u001b[0m \u001b[0mscipy\u001b[0m \u001b[0;32mimport\u001b[0m \u001b[0mstats\u001b[0m\u001b[0;34m,\u001b[0m \u001b[0minterpolate\u001b[0m\u001b[0;34m\u001b[0m\u001b[0;34m\u001b[0m\u001b[0m\n\u001b[1;32m      9\u001b[0m \u001b[0;32mfrom\u001b[0m \u001b[0mshapely\u001b[0m\u001b[0;34m.\u001b[0m\u001b[0mgeometry\u001b[0m \u001b[0;32mimport\u001b[0m \u001b[0mshape\u001b[0m\u001b[0;34m\u001b[0m\u001b[0;34m\u001b[0m\u001b[0m\n",
      "\u001b[0;31mModuleNotFoundError\u001b[0m: No module named 'statsmodels'"
     ]
    }
   ],
   "source": [
    "import numpy as np\n",
    "import pandas as pd\n",
    "import matplotlib.pyplot as plt\n",
    "import os\n",
    "from datetime import datetime as dt \n",
    "from datetime import timedelta as delta\n",
    "import statsmodels.api as sm\n",
    "from scipy import stats, interpolate\n",
    "from shapely.geometry import shape\n",
    "from functools import reduce\n",
    "import json\n",
    "\n",
    "from sklearn.preprocessing import MinMaxScaler\n",
    "from sklearn.model_selection import train_test_split, GridSearchCV, cross_val_score, StratifiedKFold\n",
    "from sklearn.metrics import recall_score, precision_score\n",
    "from sklearn.utils import shuffle\n",
    "from sklearn.multiclass import OutputCodeClassifier\n",
    "import xgboost as xgb\n",
    "import lightgbm as lgbm\n",
    "from sktime.classification.interval_based import SupervisedTimeSeriesForest, TimeSeriesForestClassifier\n",
    "\n",
    "import torch\n",
    "import torch.nn as nn"
   ]
  },
  {
   "cell_type": "code",
   "execution_count": 2,
   "id": "2e2718af-994d-4500-972d-9b1f4464e72d",
   "metadata": {},
   "outputs": [],
   "source": [
    "from torchmetrics.classification import MulticlassRecall\n",
    "from torch.optim.lr_scheduler import _LRScheduler\n",
    "from scipy.signal import savgol_filter"
   ]
  },
  {
   "cell_type": "code",
   "execution_count": 134,
   "id": "6121b639-e427-4f13-8267-7673b99b27a1",
   "metadata": {},
   "outputs": [],
   "source": [
    "from torch.nn import functional as F\n",
    "from tqdm import tqdm"
   ]
  },
  {
   "cell_type": "code",
   "execution_count": 95,
   "id": "a0233f98-e13d-44d6-8afd-a74f704e67d8",
   "metadata": {
    "jupyter": {
     "source_hidden": true
    },
    "tags": []
   },
   "outputs": [],
   "source": [
    "class NDVIDataset(torch.utils.data.Dataset):\n",
    "    def __init__(self, df, mode = 'train'):\n",
    "        self.mode = mode\n",
    "        self.df = df.copy()\n",
    "        self.df.sort_index(axis=1, inplace=True)\n",
    "        self.df.set_index('id', inplace=True)\n",
    "        \n",
    "        self.target_col = pd.Index(['crop'])\n",
    "        self.area_col = pd.Index(['area'])\n",
    "        self.geo_col = pd.Index(['.geo'])\n",
    "        self.ts_cols = self.df.columns.difference(self.area_col.append([self.geo_col, self.target_col])).to_list()\n",
    "        \n",
    "        if self.mode == 'train' or self.mode == 'valid':\n",
    "            self.targets = self.df[self.target_col].copy()\n",
    "            self.features = self.df[self.ts_cols].copy()\n",
    "        elif self.mode == 'test':\n",
    "            self.features = self.df[self.ts_cols].copy()\n",
    "\n",
    "        self.first_date = dt.strptime(\"2021-04-15\", \"%Y-%m-%d\")\n",
    "        self.last_date = dt.strptime(\"2021-08-27\", \"%Y-%m-%d\")\n",
    "        self.n_days = (self.last_date - self.first_date).days + 1\n",
    "        \n",
    "        new_names = {old_name: (dt.strptime(old_name.split('_')[-1], \"%Y-%m-%d\") - self.first_date).days+1 for old_name in self.ts_cols}\n",
    "        self.features.rename(new_names, axis=1, inplace=True)\n",
    "        self.features.sort_index(axis=1, inplace=True)\n",
    "        self.ts_cols = self.features.columns.to_list()\n",
    "        \n",
    "        self.all_dates = np.array(range(1, self.n_days + 1))\n",
    "        self.existed_dates = np.array(self.ts_cols)\n",
    "        self.new_dates = np.setdiff1d(self.all_dates, self.existed_dates)\n",
    "        \n",
    "    def __len__(self):\n",
    "        return self.df.shape[0]\n",
    "    \n",
    "    def __getitem__(self, idx):\n",
    "        row = self.expand_dates(self.features.iloc[idx])\n",
    "        row = np.clip(row, 0, 1)\n",
    "        row = self.interpolate_(row)\n",
    "        \n",
    "        feature = torch.tensor(row.values, dtype=torch.float32)\n",
    "        \n",
    "        if self.mode == 'train' or self.mode == 'valid':\n",
    "            target = torch.tensor(self.targets.iloc[idx].values, dtype=torch.int64)\n",
    "            return {'features': feature,\n",
    "                    'target': target}\n",
    "        else:\n",
    "            return {'features': feature}\n",
    "        \n",
    "    def n_cols(self):\n",
    "        return self.n_days\n",
    "            \n",
    "    def expand_dates(self, row):\n",
    "        new_row = pd.Series(index = self.all_dates, dtype=np.float64, name=row.name)\n",
    "        new_row[self.existed_dates] = row[self.existed_dates].copy()\n",
    "        new_row[self.new_dates] = np.zeros(self.new_dates.shape[0])\n",
    "        new_row = new_row.astype(np.float32)\n",
    "\n",
    "        return new_row\n",
    "    \n",
    "    def local_max_interpolation(self, row, window_s):\n",
    "        reconstructed_max = pd.Series(index = row.index, dtype = np.float64)\n",
    "\n",
    "        for i in row.index:\n",
    "            start = max(1, i - window_s//2)\n",
    "            end = min(window_s//2 + 1 + start, row.index[-1]) + 1\n",
    "\n",
    "            max_window = np.intersect1d(np.array(range(start, end)), row.index)\n",
    "            reconstructed_max[i] = row.loc[max_window].max()\n",
    "\n",
    "        return reconstructed_max\n",
    "    \n",
    "    def interpolate_(self, row):\n",
    "        values = savgol_filter(self.local_max_interpolation(row, 10), 10, 2)\n",
    "        return pd.Series(values, index = row.index, dtype=np.float64)"
   ]
  },
  {
   "cell_type": "code",
   "execution_count": 133,
   "id": "9584afc7-870b-410b-bc7a-ae7c18b81c55",
   "metadata": {
    "jupyter": {
     "source_hidden": true
    },
    "tags": []
   },
   "outputs": [],
   "source": [
    "class SimpleRNN(nn.Module):\n",
    "    def __init__(self, input_dim, hidden_dim, layer_dim, output_dim):\n",
    "        super().__init__()\n",
    "        self.input_dim = input_dim\n",
    "        self.hidden_dim = hidden_dim\n",
    "        self.layer_dim = layer_dim\n",
    "        self.bidirectional = False\n",
    "        \n",
    "        self.rnn = nn.LSTM(input_dim, hidden_dim, layer_dim, batch_first=True, bidirectional=self.bidirectional)\n",
    "        self.fc = nn.Linear(hidden_dim, output_dim)\n",
    "        \n",
    "    def forward(self, x):\n",
    "        h0, c0 = self.init_hidden(x)\n",
    "        x = x.view(x.size(0), x.size(1), self.input_dim)\n",
    "        \n",
    "        self.rnn.flatten_parameters()\n",
    "        out, _ = self.rnn(x, (h0, c0))\n",
    "        \n",
    "        out = self.fc(out[:, -1, :])\n",
    "        return out\n",
    "    \n",
    "    def init_hidden(self, x):\n",
    "        d = 2 if self.bidirectional == True else 1\n",
    "        h0 = torch.zeros(d * self.layer_dim, x.size(0), self.hidden_dim)\n",
    "        c0 = torch.zeros(d * self.layer_dim, x.size(0), self.hidden_dim)\n",
    "        return [t.cuda() for t in (h0, c0)]"
   ]
  },
  {
   "cell_type": "code",
   "execution_count": 5,
   "id": "2fe4df6d-bc15-4ce1-8468-c3bd0e8ba54d",
   "metadata": {
    "jupyter": {
     "source_hidden": true
    },
    "tags": []
   },
   "outputs": [],
   "source": [
    "class CyclicLR(_LRScheduler):\n",
    "    def __init__(self, optimizer, schedule, last_epoch=-1):\n",
    "        assert callable(schedule)\n",
    "        self.schedule = schedule\n",
    "        super().__init__(optimizer, last_epoch)\n",
    "\n",
    "    def get_lr(self):\n",
    "        return [self.schedule(self.last_epoch, lr) for lr in self.base_lrs]\n",
    "    \n",
    "def cosine(t_max, eta_min=0):\n",
    "    def scheduler(epoch, base_lr):\n",
    "        t = epoch % t_max\n",
    "        return eta_min + (base_lr - eta_min)*(1 + np.cos(np.pi*t/t_max))/2\n",
    "    \n",
    "    return scheduler"
   ]
  },
  {
   "cell_type": "code",
   "execution_count": 135,
   "id": "28912ed0-605f-4ebe-b1ff-688b26b00223",
   "metadata": {
    "jupyter": {
     "source_hidden": true
    },
    "tags": []
   },
   "outputs": [],
   "source": [
    "class Agent:\n",
    "    def __init__(self, model, device, optimizer=None, criterion=None, sheduler=None):\n",
    "        self.model = model\n",
    "        self.device = device\n",
    "        self.optimizer = optimizer\n",
    "        self.criterion = criterion\n",
    "        self.scheduler = sheduler\n",
    "        \n",
    "        if torch.cuda.device_count() > 1:\n",
    "            self.model = nn.DataParallel(self.model)\n",
    "        self.model.to(self.device)\n",
    "\n",
    "        self.ckpt_path = \"models\"\n",
    "        if not os.path.exists(self.ckpt_path):\n",
    "            os.mkdir(self.ckpt_path)\n",
    "        \n",
    "        self.metric = MulticlassRecall(7, average='macro').to(self.device)\n",
    "        \n",
    "    def train(self, n_epochs, train_loader, valid_loader):\n",
    "        best_recall = 0\n",
    "        patience = 100\n",
    "        trials = 0\n",
    "        \n",
    "        for epoch in range(1, n_epochs + 1):\n",
    "            self.model.train()\n",
    "            pbar = tqdm(train_loader)\n",
    "            for i, batch in enumerate(pbar):\n",
    "                features = batch['features'].to(self.device).float()\n",
    "                target = batch['target'].to(self.device).long()[:,0]\n",
    "                \n",
    "                self.optimizer.zero_grad()\n",
    "                \n",
    "                prediction = self.model(features)     \n",
    "                loss = self.criterion(prediction, target)\n",
    "                \n",
    "                loss.backward()\n",
    "                self.optimizer.step()\n",
    "                self.scheduler.step()\n",
    "                \n",
    "                pbar.set_description(\"EPOCH[{}/{}]\".format(epoch, n_epochs))\n",
    "                pbar.set_postfix(loss=loss.item())\n",
    "\n",
    "            self.model.eval()\n",
    "            pbar = tqdm(valid_loader, colour='green')\n",
    "            \n",
    "            general_target = torch.ones((1,1)).to(self.device)\n",
    "            general_prediction = torch.ones((1,1)).to(self.device)\n",
    "            \n",
    "            with torch.no_grad():\n",
    "                for i, batch in enumerate(pbar):\n",
    "                    features = batch['features'].to(self.device).float()\n",
    "                    target = batch['target'].to(self.device).long()[:,0]\n",
    "                    prediction = self.model(features)\n",
    "                    prediction = F.log_softmax(prediction, dim=1).argmax(dim=1)\n",
    "                    \n",
    "                    target = target.reshape(1,-1)\n",
    "                    prediction = prediction.reshape(1,-1)\n",
    "                    \n",
    "                    general_target = torch.concat([general_target, target], axis=1)\n",
    "                    general_prediction = torch.concat([general_prediction, prediction], axis=1)\n",
    "                    recall = self.metric(general_prediction[:,1:], general_target[:,1:]).item()\n",
    "\n",
    "                    pbar.set_description(\"EVALUATION\")\n",
    "                    pbar.set_postfix(Recall = recall)\n",
    "\n",
    "            if epoch % 5 == 0:\n",
    "                print(f'Epoch: {epoch:3d}. Acc.: {recall:2.2%}')\n",
    "\n",
    "            if recall > best_recall:\n",
    "                trials = 0\n",
    "                best_recall = recall\n",
    "                torch.save(model.state_dict(), 'models/best.pth')\n",
    "                print(f'Epoch {epoch} best model saved with recall: {best_recall:2.2%}')\n",
    "            else:\n",
    "                trials += 1\n",
    "                if trials >= patience:\n",
    "                    print(f'Early stopping on epoch {epoch}')\n",
    "                    break"
   ]
  },
  {
   "cell_type": "code",
   "execution_count": 2,
   "id": "bce2989e-78d8-4980-939f-886895e4f938",
   "metadata": {
    "tags": []
   },
   "outputs": [],
   "source": [
    "def local_max_interpolation(row, window_s):\n",
    "    reconstructed_max = pd.Series(index = row.index, dtype = np.float64)\n",
    "\n",
    "    for i in row.index:\n",
    "        start = max(1, i - window_s//2)\n",
    "        end = min(window_s//2 + 1 + start, row.index[-1]) + 1\n",
    "        \n",
    "        max_window = np.intersect1d(np.array(range(start, end)), row.index)\n",
    "        reconstructed_max[i] = row.loc[max_window].max()\n",
    "        \n",
    "    return reconstructed_max\n",
    "\n",
    "def preprocess(data, \n",
    "               train=True,   \n",
    "               rename=False, \n",
    "               expand_dates=False,\n",
    "               scaling=False, \n",
    "               boxcox=False, \n",
    "               diff=False):\n",
    "    \n",
    "    def parse_json(obj):\n",
    "        coords = shape(json.loads(obj.values[0])).bounds\n",
    "        x = (coords[0] + coords[2]) / 2\n",
    "        y = (coords[1] + coords[3]) / 2\n",
    "        return (x, y)\n",
    "    \n",
    "    def interpolate_(row):\n",
    "        values = savgol_filter(local_max_interpolation(row, 10), 10, 2)\n",
    "        return pd.Series(values, index = row.index, dtype=np.float64)\n",
    "    \n",
    "    def fill_fl_nan(row):\n",
    "        not_nans = np.where(np.logical_not(row.isna()))[0]\n",
    "        if not_nans[0] > 0:\n",
    "            row.iloc[0] = row.iloc[not_nans[0]]\n",
    "        if not_nans[-1] < row.shape[0]:\n",
    "            row.iloc[-1] = row.iloc[not_nans[-1]]\n",
    "\n",
    "        return row\n",
    "    \n",
    "    def rename_cols(df, cols_to_rename):\n",
    "        new_names = {old_name: (dt.strptime(old_name.split('_')[-1], \"%Y-%m-%d\") - first_date).days+1 for old_name in cols_to_rename}\n",
    "        df = df.rename(new_names, axis=1)\n",
    "        \n",
    "        return df\n",
    "\n",
    "    def expand_dates_(row):\n",
    "        new_row = pd.Series(index = all_dates, dtype=np.float64, name=row.name)\n",
    "        new_row[existed_dates] = row[existed_dates].copy()\n",
    "        new_row[new_dates] = np.zeros(new_dates.shape[0])\n",
    "        new_row = new_row.astype(np.float32)\n",
    "\n",
    "        return new_row\n",
    "\n",
    "    target_col = pd.Index(['crop'])\n",
    "    area_col = pd.Index(['area'])\n",
    "    geo_col = pd.Index(['.geo'])\n",
    "    ts_cols = data.columns.difference(area_col.append([geo_col, target_col])).to_list()\n",
    "    \n",
    "    # Mode\n",
    "    if train:\n",
    "        target = data[target_col]\n",
    "        features = data.drop(target_col.to_list(), axis=1)\n",
    "    else:\n",
    "        target = None\n",
    "        features = data\n",
    "        \n",
    "    first_date = dt.strptime(\"2021-04-15\", \"%Y-%m-%d\")\n",
    "    last_date = dt.strptime(\"2021-08-27\", \"%Y-%m-%d\")\n",
    "    n_days = (last_date - first_date).days + 1\n",
    "\n",
    "    all_dates = np.array(range(1, n_days + 1))\n",
    "    existed_dates = np.array(ts_cols)\n",
    "    new_dates = np.setdiff1d(all_dates, existed_dates)\n",
    "    \n",
    "    # Renaiming\n",
    "    if rename:\n",
    "        features = rename_cols(features, ts_cols)\n",
    "        ts_cols = features.columns.difference(area_col.append([geo_col, target_col])).to_list()\n",
    "        \n",
    "        existed_dates = np.array(ts_cols)\n",
    "        new_dates = np.setdiff1d(all_dates, existed_dates)\n",
    "        \n",
    "    features_ts = features[ts_cols].copy()\n",
    "    \n",
    "    # Expanding dates\n",
    "    if expand_dates:\n",
    "        features_ts = features_ts.apply(expand_dates_, axis=1)\n",
    "        ts_cols = features_ts.columns.to_list()\n",
    "        \n",
    "    # Interpolation\n",
    "    # features_ts[features_ts <= 0] = np.nan\n",
    "    # features_ts[features_ts >= 1] = 1\n",
    "    \n",
    "#     features_ts = np.clip(features_ts, 0, 1)\n",
    "#     features_ts.sort_index(axis=1, inplace=True)\n",
    "    \n",
    "    # features_ts = features_ts.apply(fill_fl_nan, axis=1)\n",
    "#     features_ts = features_ts.apply(interpolate_, axis=1)\n",
    "    \n",
    "#     features_ts.interpolate(axis=1, inplace=True)\n",
    "#     features_ts.ffill(axis=1, inplace=True)\n",
    "#     features_ts.bfill(axis=1, inplace=True)\n",
    "    \n",
    "    # Scaling\n",
    "    if scaling:\n",
    "        global_min = features_ts.min()\n",
    "        global_max = features_ts.max()\n",
    "\n",
    "        features_ts = (features_ts - global_min)/(global_max - global_min)\n",
    "    \n",
    "    # BoxCox\n",
    "    if boxcox:\n",
    "        features_ts = features_ts.apply(lambda row: stats.boxcox(row)[0], axis=1)\n",
    "        features_ts =  pd.DataFrame(features_ts.to_list(), columns=ts_cols, index=features_ts.index)\n",
    "    \n",
    "    # Diff\n",
    "    if diff:\n",
    "        features_ts = features_ts.apply(lambda row: row-row.shift(1), axis=1)\n",
    "        to_remove = ts_cols[0:1]\n",
    "        for el in to_remove:\n",
    "            features_ts.drop([el], inplace=True, axis=1)\n",
    "            ts_cols.remove(el)\n",
    "    \n",
    "    features_geo = features[geo_col].copy()\n",
    "    coordinates = features_geo.apply(parse_json, axis=1)\n",
    "    features_geo =  pd.DataFrame(coordinates.to_list(), columns=['x', 'y'], index=features_geo.index)\n",
    "    \n",
    "    features_area = features[area_col].copy()\n",
    "    features_parts = [features_ts, features_geo, features_area]\n",
    "\n",
    "    features = reduce(lambda left, right: left.join(right), features_parts)\n",
    "    return features, target\n",
    "\n",
    "def to_sktime_format(features):\n",
    "    sktime_df = pd.DataFrame(columns=['ndvi'])\n",
    "    for i, row in features.iterrows():        \n",
    "        sktime_df.loc[i] = {'ndvi': row}\n",
    "    \n",
    "    return sktime_df"
   ]
  },
  {
   "cell_type": "code",
   "execution_count": 3,
   "id": "c4dc894f-7869-4d0c-86ae-2559afd83fda",
   "metadata": {},
   "outputs": [
    {
     "ename": "NameError",
     "evalue": "name 'shape' is not defined",
     "output_type": "error",
     "traceback": [
      "\u001b[0;31m---------------------------------------------------------------------------\u001b[0m",
      "\u001b[0;31mNameError\u001b[0m                                 Traceback (most recent call last)",
      "\u001b[0;32m<ipython-input-3-08241ec8a01b>\u001b[0m in \u001b[0;36m<module>\u001b[0;34m\u001b[0m\n\u001b[1;32m      5\u001b[0m \u001b[0mdata\u001b[0m\u001b[0;34m.\u001b[0m\u001b[0msort_index\u001b[0m\u001b[0;34m(\u001b[0m\u001b[0maxis\u001b[0m\u001b[0;34m=\u001b[0m\u001b[0;36m1\u001b[0m\u001b[0;34m,\u001b[0m \u001b[0minplace\u001b[0m\u001b[0;34m=\u001b[0m\u001b[0;32mTrue\u001b[0m\u001b[0;34m)\u001b[0m\u001b[0;34m\u001b[0m\u001b[0;34m\u001b[0m\u001b[0m\n\u001b[1;32m      6\u001b[0m \u001b[0mdata\u001b[0m\u001b[0;34m.\u001b[0m\u001b[0mset_index\u001b[0m\u001b[0;34m(\u001b[0m\u001b[0;34m'id'\u001b[0m\u001b[0;34m,\u001b[0m \u001b[0minplace\u001b[0m\u001b[0;34m=\u001b[0m\u001b[0;32mTrue\u001b[0m\u001b[0;34m)\u001b[0m\u001b[0;34m\u001b[0m\u001b[0;34m\u001b[0m\u001b[0m\n\u001b[0;32m----> 7\u001b[0;31m \u001b[0mfeatures\u001b[0m\u001b[0;34m,\u001b[0m \u001b[0mtarget\u001b[0m \u001b[0;34m=\u001b[0m \u001b[0mpreprocess\u001b[0m\u001b[0;34m(\u001b[0m\u001b[0mdata\u001b[0m\u001b[0;34m,\u001b[0m \u001b[0mrename\u001b[0m\u001b[0;34m=\u001b[0m\u001b[0;32mTrue\u001b[0m\u001b[0;34m)\u001b[0m\u001b[0;34m\u001b[0m\u001b[0;34m\u001b[0m\u001b[0m\n\u001b[0m\u001b[1;32m      8\u001b[0m \u001b[0mfeatures_cols\u001b[0m \u001b[0;34m=\u001b[0m \u001b[0mfeatures\u001b[0m\u001b[0;34m.\u001b[0m\u001b[0mcolumns\u001b[0m\u001b[0;34m\u001b[0m\u001b[0;34m\u001b[0m\u001b[0m\n\u001b[1;32m      9\u001b[0m \u001b[0;34m\u001b[0m\u001b[0m\n",
      "\u001b[0;32m<ipython-input-2-7df305ae756c>\u001b[0m in \u001b[0;36mpreprocess\u001b[0;34m(data, train, rename, expand_dates, scaling, boxcox, diff)\u001b[0m\n\u001b[1;32m    123\u001b[0m \u001b[0;34m\u001b[0m\u001b[0m\n\u001b[1;32m    124\u001b[0m     \u001b[0mfeatures_geo\u001b[0m \u001b[0;34m=\u001b[0m \u001b[0mfeatures\u001b[0m\u001b[0;34m[\u001b[0m\u001b[0mgeo_col\u001b[0m\u001b[0;34m]\u001b[0m\u001b[0;34m.\u001b[0m\u001b[0mcopy\u001b[0m\u001b[0;34m(\u001b[0m\u001b[0;34m)\u001b[0m\u001b[0;34m\u001b[0m\u001b[0;34m\u001b[0m\u001b[0m\n\u001b[0;32m--> 125\u001b[0;31m     \u001b[0mcoordinates\u001b[0m \u001b[0;34m=\u001b[0m \u001b[0mfeatures_geo\u001b[0m\u001b[0;34m.\u001b[0m\u001b[0mapply\u001b[0m\u001b[0;34m(\u001b[0m\u001b[0mparse_json\u001b[0m\u001b[0;34m,\u001b[0m \u001b[0maxis\u001b[0m\u001b[0;34m=\u001b[0m\u001b[0;36m1\u001b[0m\u001b[0;34m)\u001b[0m\u001b[0;34m\u001b[0m\u001b[0;34m\u001b[0m\u001b[0m\n\u001b[0m\u001b[1;32m    126\u001b[0m     \u001b[0mfeatures_geo\u001b[0m \u001b[0;34m=\u001b[0m  \u001b[0mpd\u001b[0m\u001b[0;34m.\u001b[0m\u001b[0mDataFrame\u001b[0m\u001b[0;34m(\u001b[0m\u001b[0mcoordinates\u001b[0m\u001b[0;34m.\u001b[0m\u001b[0mto_list\u001b[0m\u001b[0;34m(\u001b[0m\u001b[0;34m)\u001b[0m\u001b[0;34m,\u001b[0m \u001b[0mcolumns\u001b[0m\u001b[0;34m=\u001b[0m\u001b[0;34m[\u001b[0m\u001b[0;34m'x'\u001b[0m\u001b[0;34m,\u001b[0m \u001b[0;34m'y'\u001b[0m\u001b[0;34m]\u001b[0m\u001b[0;34m,\u001b[0m \u001b[0mindex\u001b[0m\u001b[0;34m=\u001b[0m\u001b[0mfeatures_geo\u001b[0m\u001b[0;34m.\u001b[0m\u001b[0mindex\u001b[0m\u001b[0;34m)\u001b[0m\u001b[0;34m\u001b[0m\u001b[0;34m\u001b[0m\u001b[0m\n\u001b[1;32m    127\u001b[0m \u001b[0;34m\u001b[0m\u001b[0m\n",
      "\u001b[0;32m/trinity/shared/opt/python-3.6.8/lib/python3.6/site-packages/pandas/core/frame.py\u001b[0m in \u001b[0;36mapply\u001b[0;34m(self, func, axis, raw, result_type, args, **kwds)\u001b[0m\n\u001b[1;32m   7550\u001b[0m             \u001b[0mkwds\u001b[0m\u001b[0;34m=\u001b[0m\u001b[0mkwds\u001b[0m\u001b[0;34m,\u001b[0m\u001b[0;34m\u001b[0m\u001b[0;34m\u001b[0m\u001b[0m\n\u001b[1;32m   7551\u001b[0m         )\n\u001b[0;32m-> 7552\u001b[0;31m         \u001b[0;32mreturn\u001b[0m \u001b[0mop\u001b[0m\u001b[0;34m.\u001b[0m\u001b[0mget_result\u001b[0m\u001b[0;34m(\u001b[0m\u001b[0;34m)\u001b[0m\u001b[0;34m\u001b[0m\u001b[0;34m\u001b[0m\u001b[0m\n\u001b[0m\u001b[1;32m   7553\u001b[0m \u001b[0;34m\u001b[0m\u001b[0m\n\u001b[1;32m   7554\u001b[0m     \u001b[0;32mdef\u001b[0m \u001b[0mapplymap\u001b[0m\u001b[0;34m(\u001b[0m\u001b[0mself\u001b[0m\u001b[0;34m,\u001b[0m \u001b[0mfunc\u001b[0m\u001b[0;34m)\u001b[0m \u001b[0;34m->\u001b[0m \u001b[0;34m\"DataFrame\"\u001b[0m\u001b[0;34m:\u001b[0m\u001b[0;34m\u001b[0m\u001b[0;34m\u001b[0m\u001b[0m\n",
      "\u001b[0;32m/trinity/shared/opt/python-3.6.8/lib/python3.6/site-packages/pandas/core/apply.py\u001b[0m in \u001b[0;36mget_result\u001b[0;34m(self)\u001b[0m\n\u001b[1;32m    183\u001b[0m             \u001b[0;32mreturn\u001b[0m \u001b[0mself\u001b[0m\u001b[0;34m.\u001b[0m\u001b[0mapply_raw\u001b[0m\u001b[0;34m(\u001b[0m\u001b[0;34m)\u001b[0m\u001b[0;34m\u001b[0m\u001b[0;34m\u001b[0m\u001b[0m\n\u001b[1;32m    184\u001b[0m \u001b[0;34m\u001b[0m\u001b[0m\n\u001b[0;32m--> 185\u001b[0;31m         \u001b[0;32mreturn\u001b[0m \u001b[0mself\u001b[0m\u001b[0;34m.\u001b[0m\u001b[0mapply_standard\u001b[0m\u001b[0;34m(\u001b[0m\u001b[0;34m)\u001b[0m\u001b[0;34m\u001b[0m\u001b[0;34m\u001b[0m\u001b[0m\n\u001b[0m\u001b[1;32m    186\u001b[0m \u001b[0;34m\u001b[0m\u001b[0m\n\u001b[1;32m    187\u001b[0m     \u001b[0;32mdef\u001b[0m \u001b[0mapply_empty_result\u001b[0m\u001b[0;34m(\u001b[0m\u001b[0mself\u001b[0m\u001b[0;34m)\u001b[0m\u001b[0;34m:\u001b[0m\u001b[0;34m\u001b[0m\u001b[0;34m\u001b[0m\u001b[0m\n",
      "\u001b[0;32m/trinity/shared/opt/python-3.6.8/lib/python3.6/site-packages/pandas/core/apply.py\u001b[0m in \u001b[0;36mapply_standard\u001b[0;34m(self)\u001b[0m\n\u001b[1;32m    274\u001b[0m \u001b[0;34m\u001b[0m\u001b[0m\n\u001b[1;32m    275\u001b[0m     \u001b[0;32mdef\u001b[0m \u001b[0mapply_standard\u001b[0m\u001b[0;34m(\u001b[0m\u001b[0mself\u001b[0m\u001b[0;34m)\u001b[0m\u001b[0;34m:\u001b[0m\u001b[0;34m\u001b[0m\u001b[0;34m\u001b[0m\u001b[0m\n\u001b[0;32m--> 276\u001b[0;31m         \u001b[0mresults\u001b[0m\u001b[0;34m,\u001b[0m \u001b[0mres_index\u001b[0m \u001b[0;34m=\u001b[0m \u001b[0mself\u001b[0m\u001b[0;34m.\u001b[0m\u001b[0mapply_series_generator\u001b[0m\u001b[0;34m(\u001b[0m\u001b[0;34m)\u001b[0m\u001b[0;34m\u001b[0m\u001b[0;34m\u001b[0m\u001b[0m\n\u001b[0m\u001b[1;32m    277\u001b[0m \u001b[0;34m\u001b[0m\u001b[0m\n\u001b[1;32m    278\u001b[0m         \u001b[0;31m# wrap results\u001b[0m\u001b[0;34m\u001b[0m\u001b[0;34m\u001b[0m\u001b[0;34m\u001b[0m\u001b[0m\n",
      "\u001b[0;32m/trinity/shared/opt/python-3.6.8/lib/python3.6/site-packages/pandas/core/apply.py\u001b[0m in \u001b[0;36mapply_series_generator\u001b[0;34m(self)\u001b[0m\n\u001b[1;32m    303\u001b[0m                 \u001b[0;32mfor\u001b[0m \u001b[0mi\u001b[0m\u001b[0;34m,\u001b[0m \u001b[0mv\u001b[0m \u001b[0;32min\u001b[0m \u001b[0menumerate\u001b[0m\u001b[0;34m(\u001b[0m\u001b[0mseries_gen\u001b[0m\u001b[0;34m)\u001b[0m\u001b[0;34m:\u001b[0m\u001b[0;34m\u001b[0m\u001b[0;34m\u001b[0m\u001b[0m\n\u001b[1;32m    304\u001b[0m                     \u001b[0;31m# ignore SettingWithCopy here in case the user mutates\u001b[0m\u001b[0;34m\u001b[0m\u001b[0;34m\u001b[0m\u001b[0;34m\u001b[0m\u001b[0m\n\u001b[0;32m--> 305\u001b[0;31m                     \u001b[0mresults\u001b[0m\u001b[0;34m[\u001b[0m\u001b[0mi\u001b[0m\u001b[0;34m]\u001b[0m \u001b[0;34m=\u001b[0m \u001b[0mself\u001b[0m\u001b[0;34m.\u001b[0m\u001b[0mf\u001b[0m\u001b[0;34m(\u001b[0m\u001b[0mv\u001b[0m\u001b[0;34m)\u001b[0m\u001b[0;34m\u001b[0m\u001b[0;34m\u001b[0m\u001b[0m\n\u001b[0m\u001b[1;32m    306\u001b[0m                     \u001b[0;32mif\u001b[0m \u001b[0misinstance\u001b[0m\u001b[0;34m(\u001b[0m\u001b[0mresults\u001b[0m\u001b[0;34m[\u001b[0m\u001b[0mi\u001b[0m\u001b[0;34m]\u001b[0m\u001b[0;34m,\u001b[0m \u001b[0mABCSeries\u001b[0m\u001b[0;34m)\u001b[0m\u001b[0;34m:\u001b[0m\u001b[0;34m\u001b[0m\u001b[0;34m\u001b[0m\u001b[0m\n\u001b[1;32m    307\u001b[0m                         \u001b[0;31m# If we have a view on v, we need to make a copy because\u001b[0m\u001b[0;34m\u001b[0m\u001b[0;34m\u001b[0m\u001b[0;34m\u001b[0m\u001b[0m\n",
      "\u001b[0;32m<ipython-input-2-7df305ae756c>\u001b[0m in \u001b[0;36mparse_json\u001b[0;34m(obj)\u001b[0m\n\u001b[1;32m     20\u001b[0m \u001b[0;34m\u001b[0m\u001b[0m\n\u001b[1;32m     21\u001b[0m     \u001b[0;32mdef\u001b[0m \u001b[0mparse_json\u001b[0m\u001b[0;34m(\u001b[0m\u001b[0mobj\u001b[0m\u001b[0;34m)\u001b[0m\u001b[0;34m:\u001b[0m\u001b[0;34m\u001b[0m\u001b[0;34m\u001b[0m\u001b[0m\n\u001b[0;32m---> 22\u001b[0;31m         \u001b[0mcoords\u001b[0m \u001b[0;34m=\u001b[0m \u001b[0mshape\u001b[0m\u001b[0;34m(\u001b[0m\u001b[0mjson\u001b[0m\u001b[0;34m.\u001b[0m\u001b[0mloads\u001b[0m\u001b[0;34m(\u001b[0m\u001b[0mobj\u001b[0m\u001b[0;34m.\u001b[0m\u001b[0mvalues\u001b[0m\u001b[0;34m[\u001b[0m\u001b[0;36m0\u001b[0m\u001b[0;34m]\u001b[0m\u001b[0;34m)\u001b[0m\u001b[0;34m)\u001b[0m\u001b[0;34m.\u001b[0m\u001b[0mbounds\u001b[0m\u001b[0;34m\u001b[0m\u001b[0;34m\u001b[0m\u001b[0m\n\u001b[0m\u001b[1;32m     23\u001b[0m         \u001b[0mx\u001b[0m \u001b[0;34m=\u001b[0m \u001b[0;34m(\u001b[0m\u001b[0mcoords\u001b[0m\u001b[0;34m[\u001b[0m\u001b[0;36m0\u001b[0m\u001b[0;34m]\u001b[0m \u001b[0;34m+\u001b[0m \u001b[0mcoords\u001b[0m\u001b[0;34m[\u001b[0m\u001b[0;36m2\u001b[0m\u001b[0;34m]\u001b[0m\u001b[0;34m)\u001b[0m \u001b[0;34m/\u001b[0m \u001b[0;36m2\u001b[0m\u001b[0;34m\u001b[0m\u001b[0;34m\u001b[0m\u001b[0m\n\u001b[1;32m     24\u001b[0m         \u001b[0my\u001b[0m \u001b[0;34m=\u001b[0m \u001b[0;34m(\u001b[0m\u001b[0mcoords\u001b[0m\u001b[0;34m[\u001b[0m\u001b[0;36m1\u001b[0m\u001b[0;34m]\u001b[0m \u001b[0;34m+\u001b[0m \u001b[0mcoords\u001b[0m\u001b[0;34m[\u001b[0m\u001b[0;36m3\u001b[0m\u001b[0;34m]\u001b[0m\u001b[0;34m)\u001b[0m \u001b[0;34m/\u001b[0m \u001b[0;36m2\u001b[0m\u001b[0;34m\u001b[0m\u001b[0;34m\u001b[0m\u001b[0m\n",
      "\u001b[0;31mNameError\u001b[0m: name 'shape' is not defined"
     ]
    }
   ],
   "source": [
    "train_file = 'data/train_dataset_train.csv'\n",
    "test_file = 'data/test_dataset_test.csv'\n",
    "\n",
    "data = pd.read_csv(train_file)\n",
    "data.sort_index(axis=1, inplace=True)\n",
    "data.set_index('id', inplace=True)\n",
    "features, target = preprocess(data, rename=True)\n",
    "features_cols = features.columns\n",
    "\n",
    "data = features.join(target)\n",
    "data = shuffle(data)\n",
    "features = data[features_cols]\n",
    "target = data.crop\n",
    "\n",
    "features.head()"
   ]
  },
  {
   "cell_type": "markdown",
   "id": "8bbc0bf2-264a-4c7e-9227-2e6f4363b6bb",
   "metadata": {},
   "source": [
    "# Train"
   ]
  },
  {
   "cell_type": "code",
   "execution_count": 14,
   "id": "f84f14b3-cbfe-40eb-bbd1-db51b9f1b2d9",
   "metadata": {},
   "outputs": [],
   "source": [
    "train_X, valid_X, train_Y, valid_Y = train_test_split(features, target, test_size=0.2, shuffle=True)"
   ]
  },
  {
   "cell_type": "code",
   "execution_count": 75,
   "id": "704c94f3-393e-4506-8a06-327420adf661",
   "metadata": {
    "tags": []
   },
   "outputs": [],
   "source": [
    "ts_forest_clf = SupervisedTimeSeriesForest()\n",
    "boosting_clf = xgb.XGBClassifier()"
   ]
  },
  {
   "cell_type": "code",
   "execution_count": 87,
   "id": "ec2ebdc5-83e4-4f86-8095-7051bff0bcce",
   "metadata": {
    "tags": []
   },
   "outputs": [],
   "source": [
    "# train_ts_proba = ts_forest_clf.fit_predict_proba(train_X[ts_cols].values, train_Y.values.ravel())\n",
    "# valid_ts_proba = ts_forest_clf.predict_proba(valid_X[ts_cols].values)"
   ]
  },
  {
   "cell_type": "code",
   "execution_count": 88,
   "id": "6192ac6d-4044-4b01-bf1d-93a70ea574c3",
   "metadata": {
    "tags": []
   },
   "outputs": [],
   "source": [
    "# train_ts_proba = pd.DataFrame(train_ts_proba)\n",
    "# train_ts_proba['id'] = train_Y.index\n",
    "# train_ts_proba.set_index('id', inplace=True)\n",
    "\n",
    "# train_X = train_X.join(train_ts_proba)"
   ]
  },
  {
   "cell_type": "code",
   "execution_count": null,
   "id": "e55751ac-a073-4433-9e4f-897532176af6",
   "metadata": {
    "tags": []
   },
   "outputs": [],
   "source": [
    "# xgb_grid.fit(train_X, train_Y)"
   ]
  },
  {
   "cell_type": "code",
   "execution_count": 23,
   "id": "e4c3dec7-48a9-41fb-a647-bf7a5f41e43d",
   "metadata": {
    "tags": []
   },
   "outputs": [],
   "source": [
    "best_params = {'colsample_bytree': 0.5, 'eta': 0.05, 'gamma': 0.3, 'max_depth': 5, 'min_child_weight': 3}"
   ]
  },
  {
   "cell_type": "code",
   "execution_count": 22,
   "id": "dc44de7e-2df8-4bc7-a0d9-381a41ba672e",
   "metadata": {},
   "outputs": [
    {
     "data": {
      "text/plain": [
       "array([0.97075529, 0.96718476, 0.97067481])"
      ]
     },
     "execution_count": 22,
     "metadata": {},
     "output_type": "execute_result"
    }
   ],
   "source": [
    "boosting_clf = xgb.XGBClassifier(**best_params, n_estimators=1000)\n",
    "scoring = lambda estimator, x, y: recall_score(y, estimator.predict(x), average=\"macro\", zero_division=0)\n",
    "cross_val_score(boosting_clf, features, target, cv=3, scoring=scoring)\n",
    "# boosting_clf.fit(train_X, train_Y)\n",
    "# pred_Y = boosting_clf.predict(valid_X)"
   ]
  },
  {
   "cell_type": "code",
   "execution_count": 5,
   "id": "8a18cf0b-c486-4339-b8cc-84b157b3403f",
   "metadata": {},
   "outputs": [
    {
     "data": {
      "text/plain": [
       "array([0.97346194, 0.97461239, 0.96437764, 0.96732883, 0.97273371])"
      ]
     },
     "execution_count": 5,
     "metadata": {},
     "output_type": "execute_result"
    }
   ],
   "source": [
    "lgmb_clf = lgbm.LGBMClassifier(n_estimators=1000)\n",
    "scoring = lambda estimator, x, y: recall_score(y, estimator.predict(x), average=\"macro\", zero_division=0)\n",
    "cross_val_score(lgmb_clf, features, target, cv=5, scoring=scoring)"
   ]
  },
  {
   "cell_type": "code",
   "execution_count": 26,
   "id": "21ed3559-ea7a-40eb-9404-9cbc240c0aa3",
   "metadata": {},
   "outputs": [
    {
     "data": {
      "text/plain": [
       "array([0.96242078, 0.96431584, 0.96484257, 0.96052407])"
      ]
     },
     "execution_count": 26,
     "metadata": {},
     "output_type": "execute_result"
    }
   ],
   "source": [
    "skf = StratifiedKFold(n_splits = 4)\n",
    "skf.get_n_splits(features.values, target)\n",
    "clf = OutputCodeClassifier(xgb.XGBClassifier(**best_params, n_estimators=100), code_size=4)\n",
    "scoring = lambda estimator, x, y: recall_score(y, estimator.predict(x), average=\"macro\", zero_division=0)\n",
    "cross_val_score(clf, features.values, target.values, cv=skf, scoring=scoring)"
   ]
  },
  {
   "cell_type": "code",
   "execution_count": null,
   "id": "70f45b2e-5545-49f6-b5b7-36381d82dbe2",
   "metadata": {},
   "outputs": [],
   "source": [
    "parameters = {\n",
    "    'boosting':         ['gbdt', 'dart', 'goss', 'rf'],\n",
    "    'num_iterations':   [1000, 1500, 2000, 5000],\n",
    "    'learning_rate':    [0.05, 0.005, 0.01, 0.1, 0.001],\n",
    "    'num_leaves':       [7, 15, 31, 42],\n",
    "    'max_depth' :       [3, 5, 7, 9, 10, 15, 25],\n",
    "    'min_data_in_leaf': [15, 20, 25],\n",
    "    'feature_fraction': [0.6, 0.7, 0.8, 0.9],\n",
    "    'bagging_fraction': [0.6, 0.7, 0.8, 0.9],\n",
    "    'bagging_freq':     [100, 300, 200, 400, 500],\n",
    "    'reg_alpha':        [0, 0.5, 0.7],\n",
    "    'reg_lambda':       [0, 0.5, 0.7],\n",
    " \n",
    "}"
   ]
  },
  {
   "cell_type": "code",
   "execution_count": null,
   "id": "7604cc6f-6320-4d90-94de-e8f191acd406",
   "metadata": {},
   "outputs": [],
   "source": [
    "lgbm.LGBMClassifier(n_estimators=1000)"
   ]
  },
  {
   "cell_type": "code",
   "execution_count": 91,
   "id": "f2452614-dc84-4f79-b3de-8be5331334f8",
   "metadata": {},
   "outputs": [
    {
     "name": "stdout",
     "output_type": "stream",
     "text": [
      "Recall: 0.9300789100701147\n"
     ]
    }
   ],
   "source": [
    "print(f'Recall: {recall_score(valid_Y, pred_Y, average=\"macro\", zero_division=0)}')"
   ]
  },
  {
   "cell_type": "code",
   "execution_count": 52,
   "id": "634c410d-a213-43c2-b05a-d0ff2a9b4720",
   "metadata": {},
   "outputs": [
    {
     "name": "stdout",
     "output_type": "stream",
     "text": [
      "Boosting\n",
      "Recall: 0.9375329486986167\n",
      "Boosting eta=0.15 gamma=0.1\n",
      "Recall: 0.9407863121873382\n",
      "Boosting boxcox by day\n",
      "Recall: 0.9473720633651918\n",
      "Boosting boxcox\n",
      "Recall: 0.9550711109767024\n"
     ]
    }
   ],
   "source": [
    "print('Boosting')\n",
    "print('Recall: 0.9375329486986167')\n",
    "print('Boosting eta=0.15 gamma=0.1')\n",
    "print('Recall: 0.9407863121873382')\n",
    "print('Boosting boxcox by day')\n",
    "print('Recall: 0.9473720633651918')\n",
    "print('Boosting boxcox')\n",
    "print('Recall: 0.9550711109767024')\n",
    "print('Boosting boxcox')\n",
    "print('Recall: 0.9550711109767024')"
   ]
  },
  {
   "cell_type": "markdown",
   "id": "f48f274c-590c-4b8c-9b03-208eafbb4916",
   "metadata": {},
   "source": [
    "# Test"
   ]
  },
  {
   "cell_type": "code",
   "execution_count": 27,
   "id": "f24e4d3d-9d53-431a-861f-78899f79e04a",
   "metadata": {},
   "outputs": [
    {
     "data": {
      "text/html": [
       "<div>\n",
       "<style scoped>\n",
       "    .dataframe tbody tr th:only-of-type {\n",
       "        vertical-align: middle;\n",
       "    }\n",
       "\n",
       "    .dataframe tbody tr th {\n",
       "        vertical-align: top;\n",
       "    }\n",
       "\n",
       "    .dataframe thead th {\n",
       "        text-align: right;\n",
       "    }\n",
       "</style>\n",
       "<table border=\"1\" class=\"dataframe\">\n",
       "  <thead>\n",
       "    <tr style=\"text-align: right;\">\n",
       "      <th></th>\n",
       "      <th>.geo</th>\n",
       "      <th>area</th>\n",
       "      <th>nd_mean_2021-04-15</th>\n",
       "      <th>nd_mean_2021-04-16</th>\n",
       "      <th>nd_mean_2021-04-18</th>\n",
       "      <th>nd_mean_2021-04-19</th>\n",
       "      <th>nd_mean_2021-04-20</th>\n",
       "      <th>nd_mean_2021-04-22</th>\n",
       "      <th>nd_mean_2021-04-23</th>\n",
       "      <th>nd_mean_2021-04-25</th>\n",
       "      <th>...</th>\n",
       "      <th>nd_mean_2021-07-29</th>\n",
       "      <th>nd_mean_2021-07-31</th>\n",
       "      <th>nd_mean_2021-08-01</th>\n",
       "      <th>nd_mean_2021-08-07</th>\n",
       "      <th>nd_mean_2021-08-10</th>\n",
       "      <th>nd_mean_2021-08-11</th>\n",
       "      <th>nd_mean_2021-08-12</th>\n",
       "      <th>nd_mean_2021-08-13</th>\n",
       "      <th>nd_mean_2021-08-23</th>\n",
       "      <th>nd_mean_2021-08-27</th>\n",
       "    </tr>\n",
       "    <tr>\n",
       "      <th>id</th>\n",
       "      <th></th>\n",
       "      <th></th>\n",
       "      <th></th>\n",
       "      <th></th>\n",
       "      <th></th>\n",
       "      <th></th>\n",
       "      <th></th>\n",
       "      <th></th>\n",
       "      <th></th>\n",
       "      <th></th>\n",
       "      <th></th>\n",
       "      <th></th>\n",
       "      <th></th>\n",
       "      <th></th>\n",
       "      <th></th>\n",
       "      <th></th>\n",
       "      <th></th>\n",
       "      <th></th>\n",
       "      <th></th>\n",
       "      <th></th>\n",
       "      <th></th>\n",
       "    </tr>\n",
       "  </thead>\n",
       "  <tbody>\n",
       "    <tr>\n",
       "      <th>611</th>\n",
       "      <td>{\"type\":\"Polygon\",\"coordinates\":[[[35.96545926...</td>\n",
       "      <td>26</td>\n",
       "      <td>0.083038</td>\n",
       "      <td>0.196691</td>\n",
       "      <td>0.244827</td>\n",
       "      <td>0.000000</td>\n",
       "      <td>0.241219</td>\n",
       "      <td>0.259303</td>\n",
       "      <td>0.064947</td>\n",
       "      <td>0.066446</td>\n",
       "      <td>...</td>\n",
       "      <td>0.719171</td>\n",
       "      <td>0.000000</td>\n",
       "      <td>0.593911</td>\n",
       "      <td>0.000000</td>\n",
       "      <td>0.000000</td>\n",
       "      <td>0.192016</td>\n",
       "      <td>0.164840</td>\n",
       "      <td>0.714292</td>\n",
       "      <td>0.065030</td>\n",
       "      <td>0.084197</td>\n",
       "    </tr>\n",
       "    <tr>\n",
       "      <th>6417</th>\n",
       "      <td>{\"type\":\"Polygon\",\"coordinates\":[[[39.50520518...</td>\n",
       "      <td>98</td>\n",
       "      <td>0.122470</td>\n",
       "      <td>0.091192</td>\n",
       "      <td>0.241003</td>\n",
       "      <td>0.000000</td>\n",
       "      <td>0.181600</td>\n",
       "      <td>0.125823</td>\n",
       "      <td>0.108175</td>\n",
       "      <td>0.081871</td>\n",
       "      <td>...</td>\n",
       "      <td>0.317670</td>\n",
       "      <td>0.329803</td>\n",
       "      <td>0.000000</td>\n",
       "      <td>0.007428</td>\n",
       "      <td>0.000000</td>\n",
       "      <td>0.106484</td>\n",
       "      <td>0.167479</td>\n",
       "      <td>0.000000</td>\n",
       "      <td>0.000000</td>\n",
       "      <td>0.108945</td>\n",
       "    </tr>\n",
       "    <tr>\n",
       "      <th>3352</th>\n",
       "      <td>{\"type\":\"Polygon\",\"coordinates\":[[[39.30105409...</td>\n",
       "      <td>21</td>\n",
       "      <td>0.259347</td>\n",
       "      <td>0.000000</td>\n",
       "      <td>0.297489</td>\n",
       "      <td>0.033368</td>\n",
       "      <td>0.000000</td>\n",
       "      <td>0.285057</td>\n",
       "      <td>0.374026</td>\n",
       "      <td>0.000000</td>\n",
       "      <td>...</td>\n",
       "      <td>0.534127</td>\n",
       "      <td>0.000000</td>\n",
       "      <td>0.549128</td>\n",
       "      <td>0.000000</td>\n",
       "      <td>0.026141</td>\n",
       "      <td>0.469352</td>\n",
       "      <td>0.477381</td>\n",
       "      <td>0.037838</td>\n",
       "      <td>0.000000</td>\n",
       "      <td>0.158279</td>\n",
       "    </tr>\n",
       "    <tr>\n",
       "      <th>4224</th>\n",
       "      <td>{\"type\":\"Polygon\",\"coordinates\":[[[33.08144648...</td>\n",
       "      <td>18</td>\n",
       "      <td>0.166209</td>\n",
       "      <td>0.111243</td>\n",
       "      <td>0.000000</td>\n",
       "      <td>0.201012</td>\n",
       "      <td>0.083885</td>\n",
       "      <td>0.000000</td>\n",
       "      <td>0.015033</td>\n",
       "      <td>0.065305</td>\n",
       "      <td>...</td>\n",
       "      <td>0.765292</td>\n",
       "      <td>0.597874</td>\n",
       "      <td>0.681923</td>\n",
       "      <td>0.035716</td>\n",
       "      <td>0.693845</td>\n",
       "      <td>0.614671</td>\n",
       "      <td>0.634286</td>\n",
       "      <td>0.108990</td>\n",
       "      <td>0.532947</td>\n",
       "      <td>0.237742</td>\n",
       "    </tr>\n",
       "    <tr>\n",
       "      <th>3102</th>\n",
       "      <td>{\"type\":\"Polygon\",\"coordinates\":[[[45.10231339...</td>\n",
       "      <td>53</td>\n",
       "      <td>0.010862</td>\n",
       "      <td>0.000000</td>\n",
       "      <td>0.067479</td>\n",
       "      <td>0.234954</td>\n",
       "      <td>0.000000</td>\n",
       "      <td>0.000000</td>\n",
       "      <td>0.000000</td>\n",
       "      <td>0.103583</td>\n",
       "      <td>...</td>\n",
       "      <td>0.000000</td>\n",
       "      <td>0.134136</td>\n",
       "      <td>0.780305</td>\n",
       "      <td>0.030224</td>\n",
       "      <td>0.046893</td>\n",
       "      <td>0.000000</td>\n",
       "      <td>0.779191</td>\n",
       "      <td>0.048622</td>\n",
       "      <td>0.650742</td>\n",
       "      <td>0.121296</td>\n",
       "    </tr>\n",
       "  </tbody>\n",
       "</table>\n",
       "<p>5 rows × 72 columns</p>\n",
       "</div>"
      ],
      "text/plain": [
       "                                                   .geo  area  \\\n",
       "id                                                              \n",
       "611   {\"type\":\"Polygon\",\"coordinates\":[[[35.96545926...    26   \n",
       "6417  {\"type\":\"Polygon\",\"coordinates\":[[[39.50520518...    98   \n",
       "3352  {\"type\":\"Polygon\",\"coordinates\":[[[39.30105409...    21   \n",
       "4224  {\"type\":\"Polygon\",\"coordinates\":[[[33.08144648...    18   \n",
       "3102  {\"type\":\"Polygon\",\"coordinates\":[[[45.10231339...    53   \n",
       "\n",
       "      nd_mean_2021-04-15  nd_mean_2021-04-16  nd_mean_2021-04-18  \\\n",
       "id                                                                 \n",
       "611             0.083038            0.196691            0.244827   \n",
       "6417            0.122470            0.091192            0.241003   \n",
       "3352            0.259347            0.000000            0.297489   \n",
       "4224            0.166209            0.111243            0.000000   \n",
       "3102            0.010862            0.000000            0.067479   \n",
       "\n",
       "      nd_mean_2021-04-19  nd_mean_2021-04-20  nd_mean_2021-04-22  \\\n",
       "id                                                                 \n",
       "611             0.000000            0.241219            0.259303   \n",
       "6417            0.000000            0.181600            0.125823   \n",
       "3352            0.033368            0.000000            0.285057   \n",
       "4224            0.201012            0.083885            0.000000   \n",
       "3102            0.234954            0.000000            0.000000   \n",
       "\n",
       "      nd_mean_2021-04-23  nd_mean_2021-04-25  ...  nd_mean_2021-07-29  \\\n",
       "id                                            ...                       \n",
       "611             0.064947            0.066446  ...            0.719171   \n",
       "6417            0.108175            0.081871  ...            0.317670   \n",
       "3352            0.374026            0.000000  ...            0.534127   \n",
       "4224            0.015033            0.065305  ...            0.765292   \n",
       "3102            0.000000            0.103583  ...            0.000000   \n",
       "\n",
       "      nd_mean_2021-07-31  nd_mean_2021-08-01  nd_mean_2021-08-07  \\\n",
       "id                                                                 \n",
       "611             0.000000            0.593911            0.000000   \n",
       "6417            0.329803            0.000000            0.007428   \n",
       "3352            0.000000            0.549128            0.000000   \n",
       "4224            0.597874            0.681923            0.035716   \n",
       "3102            0.134136            0.780305            0.030224   \n",
       "\n",
       "      nd_mean_2021-08-10  nd_mean_2021-08-11  nd_mean_2021-08-12  \\\n",
       "id                                                                 \n",
       "611             0.000000            0.192016            0.164840   \n",
       "6417            0.000000            0.106484            0.167479   \n",
       "3352            0.026141            0.469352            0.477381   \n",
       "4224            0.693845            0.614671            0.634286   \n",
       "3102            0.046893            0.000000            0.779191   \n",
       "\n",
       "      nd_mean_2021-08-13  nd_mean_2021-08-23  nd_mean_2021-08-27  \n",
       "id                                                                \n",
       "611             0.714292            0.065030            0.084197  \n",
       "6417            0.000000            0.000000            0.108945  \n",
       "3352            0.037838            0.000000            0.158279  \n",
       "4224            0.108990            0.532947            0.237742  \n",
       "3102            0.048622            0.650742            0.121296  \n",
       "\n",
       "[5 rows x 72 columns]"
      ]
     },
     "execution_count": 27,
     "metadata": {},
     "output_type": "execute_result"
    }
   ],
   "source": [
    "test_data = pd.read_csv(test_file)\n",
    "test_data.sort_index(axis=1, inplace=True)\n",
    "test_data.set_index('id', inplace=True)\n",
    "test_data.head()"
   ]
  },
  {
   "cell_type": "code",
   "execution_count": 28,
   "id": "e52c169e-0197-4490-a378-f4050beb9485",
   "metadata": {},
   "outputs": [],
   "source": [
    "test_features, _ = preprocess(test_data, train=False, rename=True)"
   ]
  },
  {
   "cell_type": "code",
   "execution_count": 30,
   "id": "e03ca144-6c4d-4dec-a4d8-642d18af2179",
   "metadata": {},
   "outputs": [],
   "source": [
    "# lgmb_clf = lgbm.LGBMClassifier(n_estimators=1000)\n",
    "# lgmb_clf.fit(features, target)\n",
    "clf = OutputCodeClassifier(xgb.XGBClassifier(**best_params, n_estimators=1000), code_size=4)\n",
    "clf.fit(features.values, target.values)\n",
    "\n",
    "test_target = clf.predict(test_features.values)"
   ]
  },
  {
   "cell_type": "code",
   "execution_count": 31,
   "id": "df439ba0-0eae-48c1-ab81-54342d338ae3",
   "metadata": {},
   "outputs": [],
   "source": [
    "result = pd.DataFrame(columns=['id', 'crop'])\n",
    "result['id'] = test_features.index\n",
    "result['crop'] = test_target"
   ]
  },
  {
   "cell_type": "code",
   "execution_count": 32,
   "id": "19fd6d1c-4f5d-4351-806b-0637a315fd9c",
   "metadata": {},
   "outputs": [],
   "source": [
    "result.to_csv('results_v2.2.csv', index=False)"
   ]
  },
  {
   "cell_type": "markdown",
   "id": "bdf39fa5-8283-44fc-af2a-467b908ba934",
   "metadata": {},
   "source": [
    "# RNN"
   ]
  },
  {
   "cell_type": "code",
   "execution_count": 13,
   "id": "441b65f1-9bd6-46ba-948e-8e973b10e7b9",
   "metadata": {},
   "outputs": [],
   "source": [
    "train_file = 'data/train_dataset_train.csv'\n",
    "test_file = 'data/test_dataset_test.csv'"
   ]
  },
  {
   "cell_type": "code",
   "execution_count": 98,
   "id": "26212316-8d4b-444f-9f00-a061ac37595a",
   "metadata": {},
   "outputs": [],
   "source": [
    "train_df = pd.read_csv(train_file)\n",
    "train_df, valid_df = train_test_split(train_df, test_size=0.2, shuffle=True)"
   ]
  },
  {
   "cell_type": "code",
   "execution_count": 105,
   "id": "679f3437-671c-48a8-8fdd-dca37973be2b",
   "metadata": {},
   "outputs": [],
   "source": [
    "train_dataset = NDVIDataset(train_df, 'train')\n",
    "valid_dataset = NDVIDataset(valid_df, 'valid')"
   ]
  },
  {
   "cell_type": "code",
   "execution_count": 106,
   "id": "a2420bd6-8e25-461b-9163-f30ea974d799",
   "metadata": {},
   "outputs": [],
   "source": [
    "batch_size = 32\n",
    "\n",
    "train_loader = torch.utils.data.DataLoader(train_dataset, \n",
    "                                           shuffle=True, \n",
    "                                           batch_size=batch_size)\n",
    "valid_loader = torch.utils.data.DataLoader(valid_dataset,\n",
    "                                           batch_size=batch_size)"
   ]
  },
  {
   "cell_type": "code",
   "execution_count": 136,
   "id": "9e85b229-e700-4812-90dd-d24649ad8210",
   "metadata": {},
   "outputs": [],
   "source": [
    "input_dim = 1   \n",
    "hidden_dim = 256\n",
    "layer_dim = 3\n",
    "output_dim = 7\n",
    "# seq_dim = 128\n",
    "\n",
    "lr = 0.0005\n",
    "n_epochs = 1000\n",
    "iterations_per_epoch = len(train_loader)\n",
    "\n",
    "device = torch.device(\"cuda\" if torch.cuda.is_available() else \"cpu\")\n",
    "model = SimpleRNN(input_dim, hidden_dim, layer_dim, output_dim)\n",
    "criterion = nn.CrossEntropyLoss()\n",
    "optimizer = torch.optim.RMSprop(model.parameters(), lr=lr)\n",
    "sheduler = CyclicLR(optimizer, cosine(t_max=iterations_per_epoch * 2, eta_min=lr/100))\n",
    "\n",
    "agent = Agent(model, device, optimizer, criterion, sheduler)"
   ]
  },
  {
   "cell_type": "code",
   "execution_count": null,
   "id": "11cb4877-db9e-4024-98d0-0f694bcb2df1",
   "metadata": {},
   "outputs": [
    {
     "name": "stderr",
     "output_type": "stream",
     "text": [
      "EPOCH[1/1000]: 100%|████████████████████████████████████████████████████████████████████████████████| 121/121 [03:55<00:00,  1.95s/it, loss=1.5]\n",
      "EVALUATION: 100%|\u001b[32m█████████████████████████████████████████████████████████████████████████████████\u001b[0m| 31/31 [00:58<00:00,  1.89s/it, Recall=0.357]\u001b[0m\n"
     ]
    },
    {
     "name": "stdout",
     "output_type": "stream",
     "text": [
      "Epoch 1 best model saved with recall: 35.69%\n"
     ]
    },
    {
     "name": "stderr",
     "output_type": "stream",
     "text": [
      "EPOCH[2/1000]: 100%|███████████████████████████████████████████████████████████████████████████████| 121/121 [03:58<00:00,  1.97s/it, loss=1.29]\n",
      "EVALUATION: 100%|\u001b[32m█████████████████████████████████████████████████████████████████████████████████\u001b[0m| 31/31 [00:58<00:00,  1.90s/it, Recall=0.449]\u001b[0m\n"
     ]
    },
    {
     "name": "stdout",
     "output_type": "stream",
     "text": [
      "Epoch 2 best model saved with recall: 44.92%\n"
     ]
    },
    {
     "name": "stderr",
     "output_type": "stream",
     "text": [
      "EPOCH[3/1000]: 100%|███████████████████████████████████████████████████████████████████████████████| 121/121 [03:56<00:00,  1.95s/it, loss=1.09]\n",
      "EVALUATION: 100%|\u001b[32m█████████████████████████████████████████████████████████████████████████████████\u001b[0m| 31/31 [01:00<00:00,  1.94s/it, Recall=0.556]\u001b[0m\n"
     ]
    },
    {
     "name": "stdout",
     "output_type": "stream",
     "text": [
      "Epoch 3 best model saved with recall: 55.62%\n"
     ]
    },
    {
     "name": "stderr",
     "output_type": "stream",
     "text": [
      "EPOCH[4/1000]: 100%|██████████████████████████████████████████████████████████████████████████████| 121/121 [03:55<00:00,  1.95s/it, loss=0.648]\n",
      "EVALUATION: 100%|\u001b[32m█████████████████████████████████████████████████████████████████████████████████\u001b[0m| 31/31 [00:58<00:00,  1.89s/it, Recall=0.581]\u001b[0m\n"
     ]
    },
    {
     "name": "stdout",
     "output_type": "stream",
     "text": [
      "Epoch 4 best model saved with recall: 58.11%\n"
     ]
    },
    {
     "name": "stderr",
     "output_type": "stream",
     "text": [
      "EPOCH[5/1000]: 100%|██████████████████████████████████████████████████████████████████████████████| 121/121 [03:55<00:00,  1.95s/it, loss=0.968]\n",
      "EVALUATION: 100%|\u001b[32m█████████████████████████████████████████████████████████████████████████████████\u001b[0m| 31/31 [00:58<00:00,  1.88s/it, Recall=0.531]\u001b[0m\n"
     ]
    },
    {
     "name": "stdout",
     "output_type": "stream",
     "text": [
      "Epoch:   5. Acc.: 53.10%\n"
     ]
    },
    {
     "name": "stderr",
     "output_type": "stream",
     "text": [
      "EPOCH[6/1000]: 100%|███████████████████████████████████████████████████████████████████████████████| 121/121 [03:55<00:00,  1.95s/it, loss=1.07]\n",
      "EVALUATION: 100%|\u001b[32m█████████████████████████████████████████████████████████████████████████████████\u001b[0m| 31/31 [00:59<00:00,  1.91s/it, Recall=0.619]\u001b[0m\n"
     ]
    },
    {
     "name": "stdout",
     "output_type": "stream",
     "text": [
      "Epoch 6 best model saved with recall: 61.90%\n"
     ]
    },
    {
     "name": "stderr",
     "output_type": "stream",
     "text": [
      "EPOCH[7/1000]: 100%|██████████████████████████████████████████████████████████████████████████████| 121/121 [03:57<00:00,  1.96s/it, loss=0.695]\n",
      "EVALUATION: 100%|\u001b[32m█████████████████████████████████████████████████████████████████████████████████\u001b[0m| 31/31 [00:59<00:00,  1.92s/it, Recall=0.626]\u001b[0m\n"
     ]
    },
    {
     "name": "stdout",
     "output_type": "stream",
     "text": [
      "Epoch 7 best model saved with recall: 62.57%\n"
     ]
    },
    {
     "name": "stderr",
     "output_type": "stream",
     "text": [
      "EPOCH[8/1000]: 100%|███████████████████████████████████████████████████████████████████████████████| 121/121 [03:56<00:00,  1.95s/it, loss=1.05]\n",
      "EVALUATION: 100%|\u001b[32m█████████████████████████████████████████████████████████████████████████████████\u001b[0m| 31/31 [00:58<00:00,  1.88s/it, Recall=0.653]\u001b[0m\n"
     ]
    },
    {
     "name": "stdout",
     "output_type": "stream",
     "text": [
      "Epoch 8 best model saved with recall: 65.34%\n"
     ]
    },
    {
     "name": "stderr",
     "output_type": "stream",
     "text": [
      "EPOCH[9/1000]: 100%|███████████████████████████████████████████████████████████████████████████████| 121/121 [03:55<00:00,  1.95s/it, loss=1.07]\n",
      "EVALUATION: 100%|\u001b[32m█████████████████████████████████████████████████████████████████████████████████\u001b[0m| 31/31 [00:58<00:00,  1.88s/it, Recall=0.491]\u001b[0m\n",
      "EPOCH[10/1000]: 100%|██████████████████████████████████████████████████████████████████████████████| 121/121 [03:56<00:00,  1.95s/it, loss=1.04]\n",
      "EVALUATION: 100%|\u001b[32m█████████████████████████████████████████████████████████████████████████████████\u001b[0m| 31/31 [00:58<00:00,  1.88s/it, Recall=0.573]\u001b[0m\n"
     ]
    },
    {
     "name": "stdout",
     "output_type": "stream",
     "text": [
      "Epoch:  10. Acc.: 57.25%\n"
     ]
    },
    {
     "name": "stderr",
     "output_type": "stream",
     "text": [
      "EPOCH[11/1000]: 100%|█████████████████████████████████████████████████████████████████████████████| 121/121 [03:54<00:00,  1.94s/it, loss=0.968]\n",
      "EVALUATION: 100%|\u001b[32m█████████████████████████████████████████████████████████████████████████████████\u001b[0m| 31/31 [00:57<00:00,  1.85s/it, Recall=0.635]\u001b[0m\n",
      "EPOCH[12/1000]: 100%|█████████████████████████████████████████████████████████████████████████████| 121/121 [03:53<00:00,  1.93s/it, loss=0.862]\n",
      "EVALUATION: 100%|\u001b[32m█████████████████████████████████████████████████████████████████████████████████\u001b[0m| 31/31 [00:57<00:00,  1.84s/it, Recall=0.663]\u001b[0m\n"
     ]
    },
    {
     "name": "stdout",
     "output_type": "stream",
     "text": [
      "Epoch 12 best model saved with recall: 66.31%\n"
     ]
    },
    {
     "name": "stderr",
     "output_type": "stream",
     "text": [
      "EPOCH[13/1000]: 100%|█████████████████████████████████████████████████████████████████████████████| 121/121 [03:53<00:00,  1.93s/it, loss=0.685]\n",
      "EVALUATION: 100%|\u001b[32m█████████████████████████████████████████████████████████████████████████████████\u001b[0m| 31/31 [00:59<00:00,  1.90s/it, Recall=0.681]\u001b[0m\n"
     ]
    },
    {
     "name": "stdout",
     "output_type": "stream",
     "text": [
      "Epoch 13 best model saved with recall: 68.07%\n"
     ]
    },
    {
     "name": "stderr",
     "output_type": "stream",
     "text": [
      "EPOCH[14/1000]: 100%|█████████████████████████████████████████████████████████████████████████████| 121/121 [03:51<00:00,  1.92s/it, loss=0.593]\n",
      "EVALUATION: 100%|\u001b[32m█████████████████████████████████████████████████████████████████████████████████\u001b[0m| 31/31 [00:57<00:00,  1.86s/it, Recall=0.719]\u001b[0m\n"
     ]
    },
    {
     "name": "stdout",
     "output_type": "stream",
     "text": [
      "Epoch 14 best model saved with recall: 71.86%\n"
     ]
    },
    {
     "name": "stderr",
     "output_type": "stream",
     "text": [
      "EPOCH[15/1000]: 100%|█████████████████████████████████████████████████████████████████████████████| 121/121 [03:51<00:00,  1.92s/it, loss=0.486]\n",
      "EVALUATION: 100%|\u001b[32m█████████████████████████████████████████████████████████████████████████████████\u001b[0m| 31/31 [00:57<00:00,  1.85s/it, Recall=0.715]\u001b[0m\n"
     ]
    },
    {
     "name": "stdout",
     "output_type": "stream",
     "text": [
      "Epoch:  15. Acc.: 71.53%\n"
     ]
    },
    {
     "name": "stderr",
     "output_type": "stream",
     "text": [
      "EPOCH[16/1000]: 100%|█████████████████████████████████████████████████████████████████████████████| 121/121 [03:51<00:00,  1.91s/it, loss=0.666]\n",
      "EVALUATION: 100%|\u001b[32m█████████████████████████████████████████████████████████████████████████████████\u001b[0m| 31/31 [00:57<00:00,  1.84s/it, Recall=0.722]\u001b[0m\n"
     ]
    },
    {
     "name": "stdout",
     "output_type": "stream",
     "text": [
      "Epoch 16 best model saved with recall: 72.17%\n"
     ]
    },
    {
     "name": "stderr",
     "output_type": "stream",
     "text": [
      "EPOCH[17/1000]: 100%|█████████████████████████████████████████████████████████████████████████████| 121/121 [03:53<00:00,  1.93s/it, loss=0.667]\n",
      "EVALUATION: 100%|\u001b[32m█████████████████████████████████████████████████████████████████████████████████\u001b[0m| 31/31 [00:57<00:00,  1.85s/it, Recall=0.686]\u001b[0m\n",
      "EPOCH[18/1000]: 100%|█████████████████████████████████████████████████████████████████████████████| 121/121 [03:52<00:00,  1.92s/it, loss=0.849]\n",
      "EVALUATION: 100%|\u001b[32m█████████████████████████████████████████████████████████████████████████████████\u001b[0m| 31/31 [00:57<00:00,  1.85s/it, Recall=0.722]\u001b[0m\n"
     ]
    },
    {
     "name": "stdout",
     "output_type": "stream",
     "text": [
      "Epoch 18 best model saved with recall: 72.20%\n"
     ]
    },
    {
     "name": "stderr",
     "output_type": "stream",
     "text": [
      "EPOCH[19/1000]: 100%|█████████████████████████████████████████████████████████████████████████████| 121/121 [03:52<00:00,  1.92s/it, loss=0.755]\n",
      "EVALUATION: 100%|\u001b[32m██████████████████████████████████████████████████████████████████████████████████\u001b[0m| 31/31 [00:59<00:00,  1.92s/it, Recall=0.71]\u001b[0m\n",
      "EPOCH[20/1000]: 100%|█████████████████████████████████████████████████████████████████████████████| 121/121 [03:53<00:00,  1.93s/it, loss=0.805]\n",
      "EVALUATION: 100%|\u001b[32m█████████████████████████████████████████████████████████████████████████████████\u001b[0m| 31/31 [00:57<00:00,  1.85s/it, Recall=0.735]\u001b[0m\n"
     ]
    },
    {
     "name": "stdout",
     "output_type": "stream",
     "text": [
      "Epoch:  20. Acc.: 73.50%\n",
      "Epoch 20 best model saved with recall: 73.50%\n"
     ]
    },
    {
     "name": "stderr",
     "output_type": "stream",
     "text": [
      "EPOCH[21/1000]: 100%|█████████████████████████████████████████████████████████████████████████████| 121/121 [03:51<00:00,  1.91s/it, loss=0.722]\n",
      "EVALUATION: 100%|\u001b[32m█████████████████████████████████████████████████████████████████████████████████\u001b[0m| 31/31 [00:59<00:00,  1.92s/it, Recall=0.728]\u001b[0m\n",
      "EPOCH[22/1000]: 100%|█████████████████████████████████████████████████████████████████████████████| 121/121 [03:52<00:00,  1.92s/it, loss=0.584]\n",
      "EVALUATION: 100%|\u001b[32m█████████████████████████████████████████████████████████████████████████████████\u001b[0m| 31/31 [00:59<00:00,  1.91s/it, Recall=0.741]\u001b[0m\n"
     ]
    },
    {
     "name": "stdout",
     "output_type": "stream",
     "text": [
      "Epoch 22 best model saved with recall: 74.09%\n"
     ]
    },
    {
     "name": "stderr",
     "output_type": "stream",
     "text": [
      "EPOCH[23/1000]: 100%|█████████████████████████████████████████████████████████████████████████████| 121/121 [03:52<00:00,  1.92s/it, loss=0.563]\n",
      "EVALUATION: 100%|\u001b[32m█████████████████████████████████████████████████████████████████████████████████\u001b[0m| 31/31 [00:57<00:00,  1.85s/it, Recall=0.727]\u001b[0m\n",
      "EPOCH[24/1000]: 100%|█████████████████████████████████████████████████████████████████████████████| 121/121 [03:52<00:00,  1.92s/it, loss=0.651]\n",
      "EVALUATION: 100%|\u001b[32m█████████████████████████████████████████████████████████████████████████████████\u001b[0m| 31/31 [00:57<00:00,  1.85s/it, Recall=0.737]\u001b[0m\n",
      "EPOCH[25/1000]: 100%|█████████████████████████████████████████████████████████████████████████████| 121/121 [03:53<00:00,  1.93s/it, loss=0.526]\n",
      "EVALUATION: 100%|\u001b[32m██████████████████████████████████████████████████████████████████████████████████\u001b[0m| 31/31 [00:57<00:00,  1.87s/it, Recall=0.73]\u001b[0m\n"
     ]
    },
    {
     "name": "stdout",
     "output_type": "stream",
     "text": [
      "Epoch:  25. Acc.: 73.04%\n"
     ]
    },
    {
     "name": "stderr",
     "output_type": "stream",
     "text": [
      "EPOCH[26/1000]: 100%|█████████████████████████████████████████████████████████████████████████████| 121/121 [03:54<00:00,  1.94s/it, loss=0.773]\n",
      "EVALUATION: 100%|\u001b[32m█████████████████████████████████████████████████████████████████████████████████\u001b[0m| 31/31 [00:58<00:00,  1.89s/it, Recall=0.742]\u001b[0m\n"
     ]
    },
    {
     "name": "stdout",
     "output_type": "stream",
     "text": [
      "Epoch 26 best model saved with recall: 74.20%\n"
     ]
    },
    {
     "name": "stderr",
     "output_type": "stream",
     "text": [
      "EPOCH[27/1000]: 100%|█████████████████████████████████████████████████████████████████████████████| 121/121 [03:56<00:00,  1.96s/it, loss=0.981]\n",
      "EVALUATION: 100%|\u001b[32m█████████████████████████████████████████████████████████████████████████████████\u001b[0m| 31/31 [00:58<00:00,  1.87s/it, Recall=0.744]\u001b[0m\n"
     ]
    },
    {
     "name": "stdout",
     "output_type": "stream",
     "text": [
      "Epoch 27 best model saved with recall: 74.43%\n"
     ]
    },
    {
     "name": "stderr",
     "output_type": "stream",
     "text": [
      "EPOCH[28/1000]: 100%|█████████████████████████████████████████████████████████████████████████████| 121/121 [03:56<00:00,  1.95s/it, loss=0.704]\n",
      "EVALUATION: 100%|\u001b[32m█████████████████████████████████████████████████████████████████████████████████\u001b[0m| 31/31 [00:58<00:00,  1.87s/it, Recall=0.749]\u001b[0m\n"
     ]
    },
    {
     "name": "stdout",
     "output_type": "stream",
     "text": [
      "Epoch 28 best model saved with recall: 74.93%\n"
     ]
    },
    {
     "name": "stderr",
     "output_type": "stream",
     "text": [
      "EPOCH[29/1000]: 100%|█████████████████████████████████████████████████████████████████████████████| 121/121 [03:55<00:00,  1.95s/it, loss=0.755]\n",
      "EVALUATION: 100%|\u001b[32m█████████████████████████████████████████████████████████████████████████████████\u001b[0m| 31/31 [00:58<00:00,  1.87s/it, Recall=0.738]\u001b[0m\n",
      "EPOCH[30/1000]: 100%|█████████████████████████████████████████████████████████████████████████████| 121/121 [03:55<00:00,  1.95s/it, loss=0.308]\n",
      "EVALUATION: 100%|\u001b[32m██████████████████████████████████████████████████████████████████████████████████\u001b[0m| 31/31 [00:59<00:00,  1.91s/it, Recall=0.75]\u001b[0m\n"
     ]
    },
    {
     "name": "stdout",
     "output_type": "stream",
     "text": [
      "Epoch:  30. Acc.: 75.03%\n",
      "Epoch 30 best model saved with recall: 75.03%\n"
     ]
    },
    {
     "name": "stderr",
     "output_type": "stream",
     "text": [
      "EPOCH[31/1000]:   7%|█████▉                                                                         | 9/121 [00:17<03:41,  1.98s/it, loss=0.588]"
     ]
    }
   ],
   "source": [
    "agent.train(n_epochs, train_loader, valid_loader)"
   ]
  },
  {
   "cell_type": "code",
   "execution_count": null,
   "id": "beea8ca5-454d-4af7-af64-b137a2e74a65",
   "metadata": {},
   "outputs": [],
   "source": [
    "GridSearchCV()"
   ]
  }
 ],
 "metadata": {
  "kernelspec": {
   "display_name": "Python 3",
   "language": "python",
   "name": "python3"
  },
  "language_info": {
   "codemirror_mode": {
    "name": "ipython",
    "version": 3
   },
   "file_extension": ".py",
   "mimetype": "text/x-python",
   "name": "python",
   "nbconvert_exporter": "python",
   "pygments_lexer": "ipython3",
   "version": "3.6.8"
  }
 },
 "nbformat": 4,
 "nbformat_minor": 5
}
